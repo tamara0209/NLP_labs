{
 "cells": [
  {
   "cell_type": "code",
   "execution_count": 20,
   "metadata": {},
   "outputs": [],
   "source": [
    "import torch\n",
    "import numpy as np\n",
    "import pandas as pd\n",
    "import torch\n",
    "from transformers import BertTokenizer, BertModel, BertConfig, BertPreTrainedModel, BertForPreTraining, BertForMaskedLM\n",
    "import torch.nn as nn\n",
    "from tqdm import tqdm, tqdm_notebook\n",
    "import os\n",
    "import random\n",
    "import re\n",
    "\n",
    "RUBERT_PATH = '/Users/ts/Downloads/ru_conversational_cased_L-12_H-768_A-12_pt'\n",
    "modelpath = os.path.join(RUBERT_PATH,'pytorch_model.bin')\n",
    "\n",
    "SEED = 1234\n",
    "random.seed(SEED)\n",
    "np.random.seed(SEED)\n",
    "torch.manual_seed(SEED)\n",
    "torch.backends.cudnn.deterministic = True"
   ]
  },
  {
   "cell_type": "code",
   "execution_count": 21,
   "metadata": {},
   "outputs": [],
   "source": [
    "#!pip install transformers #huggingface"
   ]
  },
  {
   "cell_type": "code",
   "execution_count": 22,
   "metadata": {},
   "outputs": [
    {
     "data": {
      "text/plain": [
       "True"
      ]
     },
     "execution_count": 22,
     "metadata": {},
     "output_type": "execute_result"
    }
   ],
   "source": [
    "os.path.isfile(os.path.join(RUBERT_PATH,'pytorch_model.bin'))"
   ]
  },
  {
   "cell_type": "code",
   "execution_count": 23,
   "metadata": {},
   "outputs": [],
   "source": [
    "tokenizer = BertTokenizer.from_pretrained(RUBERT_PATH, do_lower_case=False)\n",
    "config = BertConfig.from_json_file(os.path.join(RUBERT_PATH,'bert_config.json'))\n",
    "model = BertForPreTraining.from_pretrained(modelpath, config=config)\n",
    "model.eval()\n",
    "from torch import load\n",
    "di = load(modelpath)"
   ]
  },
  {
   "cell_type": "code",
   "execution_count": 24,
   "metadata": {},
   "outputs": [],
   "source": [
    "def hw_bert(sentence): \n",
    "    tokenized_text = tokenizer.tokenize(sentence)\n",
    "    indexed_tokens = tokenizer.convert_tokens_to_ids(tokenized_text)\n",
    "    segments_ids = [1] * len(tokenized_text)\n",
    "    segments_ids[0] = 0\n",
    "    \n",
    "    tokens_tensor = torch.tensor([indexed_tokens])\n",
    "    segments_tensors = torch.tensor([segments_ids])\n",
    " \n",
    "    predictions = model(tokens_tensor, token_type_ids=segments_tensors)\n",
    "    array_of_thensors = []\n",
    "\n",
    "    for i in range(len(tokenized_text)):\n",
    "        array_of_thensors.append((predictions[0][0][i].detach().numpy()))\n",
    "\n",
    "    mean = np.mean(array_of_thensors, axis = 0)\n",
    "\n",
    "    return mean"
   ]
  },
  {
   "cell_type": "code",
   "execution_count": 25,
   "metadata": {
    "scrolled": false
   },
   "outputs": [
    {
     "data": {
      "text/html": [
       "<div>\n",
       "<style scoped>\n",
       "    .dataframe tbody tr th:only-of-type {\n",
       "        vertical-align: middle;\n",
       "    }\n",
       "\n",
       "    .dataframe tbody tr th {\n",
       "        vertical-align: top;\n",
       "    }\n",
       "\n",
       "    .dataframe thead th {\n",
       "        text-align: right;\n",
       "    }\n",
       "</style>\n",
       "<table border=\"1\" class=\"dataframe\">\n",
       "  <thead>\n",
       "    <tr style=\"text-align: right;\">\n",
       "      <th></th>\n",
       "      <th>text</th>\n",
       "    </tr>\n",
       "  </thead>\n",
       "  <tbody>\n",
       "    <tr>\n",
       "      <th>0</th>\n",
       "      <td>Сериал очень люблю, но Академия и Земля вызыва...</td>\n",
       "    </tr>\n",
       "    <tr>\n",
       "      <th>1</th>\n",
       "      <td>думал, что будет лучше идея очень интересна - ...</td>\n",
       "    </tr>\n",
       "    <tr>\n",
       "      <th>2</th>\n",
       "      <td>с творчеством Головачева я познакомился посред...</td>\n",
       "    </tr>\n",
       "    <tr>\n",
       "      <th>3</th>\n",
       "      <td>то-то я и в большое неудовольствие прочитал \"А...</td>\n",
       "    </tr>\n",
       "    <tr>\n",
       "      <th>4</th>\n",
       "      <td>как мне показалось местами сильно смахивает на...</td>\n",
       "    </tr>\n",
       "  </tbody>\n",
       "</table>\n",
       "</div>"
      ],
      "text/plain": [
       "                                                text\n",
       "0  Сериал очень люблю, но Академия и Земля вызыва...\n",
       "1  думал, что будет лучше идея очень интересна - ...\n",
       "2  с творчеством Головачева я познакомился посред...\n",
       "3  то-то я и в большое неудовольствие прочитал \"А...\n",
       "4  как мне показалось местами сильно смахивает на..."
      ]
     },
     "execution_count": 25,
     "metadata": {},
     "output_type": "execute_result"
    }
   ],
   "source": [
    "texts_df = pd.read_csv('texts_train.txt', sep=\"\\t\", header=None)\n",
    "texts_df.columns = [\"text\"]\n",
    "texts_df.head()"
   ]
  },
  {
   "cell_type": "code",
   "execution_count": 26,
   "metadata": {
    "scrolled": true
   },
   "outputs": [
    {
     "data": {
      "text/plain": [
       "array([-7.7523403, -7.0822864, -8.46571  , ..., -9.678036 , -9.688264 ,\n",
       "       -9.683479 ], dtype=float32)"
      ]
     },
     "execution_count": 26,
     "metadata": {},
     "output_type": "execute_result"
    }
   ],
   "source": [
    "hw_bert(texts_df['text'][0])"
   ]
  },
  {
   "cell_type": "code",
   "execution_count": 27,
   "metadata": {
    "scrolled": true
   },
   "outputs": [
    {
     "data": {
      "text/html": [
       "<div>\n",
       "<style scoped>\n",
       "    .dataframe tbody tr th:only-of-type {\n",
       "        vertical-align: middle;\n",
       "    }\n",
       "\n",
       "    .dataframe tbody tr th {\n",
       "        vertical-align: top;\n",
       "    }\n",
       "\n",
       "    .dataframe thead th {\n",
       "        text-align: right;\n",
       "    }\n",
       "</style>\n",
       "<table border=\"1\" class=\"dataframe\">\n",
       "  <thead>\n",
       "    <tr style=\"text-align: right;\">\n",
       "      <th></th>\n",
       "      <th>tonality</th>\n",
       "      <th>vector_means</th>\n",
       "    </tr>\n",
       "  </thead>\n",
       "  <tbody>\n",
       "    <tr>\n",
       "      <th>0</th>\n",
       "      <td>6.0</td>\n",
       "      <td>-290.200745</td>\n",
       "    </tr>\n",
       "    <tr>\n",
       "      <th>1</th>\n",
       "      <td>7.0</td>\n",
       "      <td>-183.830475</td>\n",
       "    </tr>\n",
       "    <tr>\n",
       "      <th>2</th>\n",
       "      <td>10.0</td>\n",
       "      <td>-440.676788</td>\n",
       "    </tr>\n",
       "    <tr>\n",
       "      <th>3</th>\n",
       "      <td>5.0</td>\n",
       "      <td>-231.999832</td>\n",
       "    </tr>\n",
       "    <tr>\n",
       "      <th>4</th>\n",
       "      <td>6.0</td>\n",
       "      <td>-362.513824</td>\n",
       "    </tr>\n",
       "  </tbody>\n",
       "</table>\n",
       "</div>"
      ],
      "text/plain": [
       "   tonality  vector_means\n",
       "0       6.0   -290.200745\n",
       "1       7.0   -183.830475\n",
       "2      10.0   -440.676788\n",
       "3       5.0   -231.999832\n",
       "4       6.0   -362.513824"
      ]
     },
     "execution_count": 27,
     "metadata": {},
     "output_type": "execute_result"
    }
   ],
   "source": [
    "#scores data\n",
    "if (os.path.isfile('collected_data.csv')):\n",
    "    scores_df = pd.read_csv('collected_data.csv', dtype='float64')\n",
    "else:\n",
    "    scores_df = pd.read_csv('scores_train.txt', sep=\"\\t\", header=None, dtype='float64')\n",
    "    scores_df.columns = [\"tonality\"]\n",
    "    vector_means = [get_means(sentence) for sentence in texts_df[\"text\"].tolist()]\n",
    "    scores_df['vector_means'] = vector_means\n",
    "\n",
    "scores_df.head()"
   ]
  },
  {
   "cell_type": "code",
   "execution_count": 28,
   "metadata": {},
   "outputs": [],
   "source": [
    "scores_df.to_csv('collected_data.csv', index = False, header=True)"
   ]
  },
  {
   "cell_type": "code",
   "execution_count": 29,
   "metadata": {},
   "outputs": [],
   "source": [
    "tone_levels = np.array(scores_df['tonality'])\n",
    "features = np.array(scores_df['vector_means']).reshape(-1, 1)"
   ]
  },
  {
   "cell_type": "code",
   "execution_count": 64,
   "metadata": {},
   "outputs": [],
   "source": [
    "from sklearn.model_selection import train_test_split\n",
    "X_train, X_test, y_train, y_test  = train_test_split(features, tone_levels, test_size = 0.2, random_state = random.seed(SEED))"
   ]
  },
  {
   "cell_type": "code",
   "execution_count": 31,
   "metadata": {},
   "outputs": [],
   "source": [
    "from sklearn.ensemble import RandomForestClassifier\n",
    "model=RandomForestClassifier(n_estimators=100)\n",
    "model.fit(X_train, y_train)\n",
    "y_pred = model.predict(X_test)"
   ]
  },
  {
   "cell_type": "code",
   "execution_count": 65,
   "metadata": {},
   "outputs": [
    {
     "name": "stdout",
     "output_type": "stream",
     "text": [
      "Training Features Shape: (16000, 1)\n",
      "Training Labels Shape: (16000,)\n",
      "Testing Features Shape: (4000, 1)\n",
      "Testing Labels Shape: (4000,)\n"
     ]
    }
   ],
   "source": [
    "print('Training Features Shape:', X_train.shape)\n",
    "print('Training Labels Shape:', y_train.shape)\n",
    "print('Testing Features Shape:', X_test.shape)\n",
    "print('Testing Labels Shape:', y_test .shape)"
   ]
  },
  {
   "cell_type": "code",
   "execution_count": 43,
   "metadata": {},
   "outputs": [],
   "source": [
    "def get_mae(pred, test):\n",
    "    errors = np.mean(abs(y_test - y_pred))\n",
    "    print('Mean Absolute Error:', errors)\n",
    "    return errors"
   ]
  },
  {
   "cell_type": "code",
   "execution_count": 44,
   "metadata": {},
   "outputs": [
    {
     "name": "stdout",
     "output_type": "stream",
     "text": [
      "Mean Absolute Error: 2.29325\n"
     ]
    }
   ],
   "source": [
    "errors = get_mae(y_pred, y_test)"
   ]
  },
  {
   "cell_type": "code",
   "execution_count": 61,
   "metadata": {
    "scrolled": true
   },
   "outputs": [],
   "source": [
    "def get_accuracy(maerrs, test_data):\n",
    "    mape = 100 * (maerrs / test_data)\n",
    "    accuracy = 100 - np.mean(mape)\n",
    "    print('Accuracy score - ', round(accuracy, 2), '%.')"
   ]
  },
  {
   "cell_type": "code",
   "execution_count": 62,
   "metadata": {},
   "outputs": [
    {
     "name": "stdout",
     "output_type": "stream",
     "text": [
      "##############Random Forest#################\n",
      "Accuracy score -  63.94 %.\n"
     ]
    }
   ],
   "source": [
    "print('##############Random Forest#################')\n",
    "get_accuracy(errors, y_test)"
   ]
  },
  {
   "cell_type": "code",
   "execution_count": 66,
   "metadata": {},
   "outputs": [
    {
     "name": "stdout",
     "output_type": "stream",
     "text": [
      "classification_report: \n",
      "              precision    recall  f1-score   support\n",
      "\n",
      "         1.0       0.00      0.00      0.00        80\n",
      "         2.0       0.00      0.00      0.00        52\n",
      "         3.0       0.00      0.00      0.00       117\n",
      "         4.0       0.00      0.00      0.00       162\n",
      "         5.0       0.00      0.00      0.00       271\n",
      "         6.0       0.05      0.05      0.05       227\n",
      "         7.0       0.08      0.46      0.14       334\n",
      "         8.0       0.16      0.45      0.24       680\n",
      "         9.0       0.00      0.00      0.00       967\n",
      "        10.0       0.00      0.00      0.00      1110\n",
      "\n",
      "    accuracy                           0.12      4000\n",
      "   macro avg       0.03      0.10      0.04      4000\n",
      "weighted avg       0.04      0.12      0.06      4000\n",
      "\n"
     ]
    }
   ],
   "source": [
    "from sklearn import metrics\n",
    "y_pred = [int(item) for item in y_pred]\n",
    "print('classification_report: ')\n",
    "print(metrics.classification_report(y_test, y_pred))"
   ]
  },
  {
   "cell_type": "code",
   "execution_count": null,
   "metadata": {},
   "outputs": [],
   "source": []
  }
 ],
 "metadata": {
  "kernelspec": {
   "display_name": "Python 3",
   "language": "python",
   "name": "python3"
  },
  "language_info": {
   "codemirror_mode": {
    "name": "ipython",
    "version": 3
   },
   "file_extension": ".py",
   "mimetype": "text/x-python",
   "name": "python",
   "nbconvert_exporter": "python",
   "pygments_lexer": "ipython3",
   "version": "3.7.3"
  }
 },
 "nbformat": 4,
 "nbformat_minor": 2
}
