{
 "cells": [
  {
   "cell_type": "markdown",
   "metadata": {
    "colab_type": "text",
    "id": "-vbJe1GQ3OV3"
   },
   "source": [
    "#### Lab 7 \n",
    "#### Rouge Metrics"
   ]
  },
  {
   "cell_type": "code",
   "execution_count": 1,
   "metadata": {
    "colab": {
     "base_uri": "https://localhost:8080/",
     "height": 34
    },
    "colab_type": "code",
    "id": "P2U8SJrJ3WT-",
    "outputId": "fcd71e92-33e1-4101-bf13-d1cd7332714b"
   },
   "outputs": [
    {
     "name": "stdout",
     "output_type": "stream",
     "text": [
      "Requirement already satisfied: fuzzywuzzy in /Users/ts/anaconda3/lib/python3.7/site-packages (0.18.0)\r\n"
     ]
    }
   ],
   "source": [
    "!pip install fuzzywuzzy"
   ]
  },
  {
   "cell_type": "code",
   "execution_count": 2,
   "metadata": {
    "colab": {
     "base_uri": "https://localhost:8080/",
     "height": 50
    },
    "colab_type": "code",
    "id": "c3l6YFZV3OV4",
    "outputId": "f6900e70-dedb-45c2-ccf2-7a92032459cf"
   },
   "outputs": [
    {
     "name": "stderr",
     "output_type": "stream",
     "text": [
      "/Users/ts/anaconda3/lib/python3.7/site-packages/fuzzywuzzy/fuzz.py:11: UserWarning: Using slow pure-python SequenceMatcher. Install python-Levenshtein to remove this warning\n",
      "  warnings.warn('Using slow pure-python SequenceMatcher. Install python-Levenshtein to remove this warning')\n"
     ]
    }
   ],
   "source": [
    "import pandas as pd\n",
    "from nltk.corpus import stopwords\n",
    "from nltk.corpus import wordnet as wn\n",
    "import numpy as np\n",
    "from fuzzywuzzy import fuzz \n",
    "import ipywidgets as widgets\n",
    "import pprint\n",
    "from ipywidgets import interact, interact_manual\n",
    "import re\n",
    "__PATH__ = \"/Users/ts/Downloads/data.csv\""
   ]
  },
  {
   "cell_type": "code",
   "execution_count": 3,
   "metadata": {
    "colab": {},
    "colab_type": "code",
    "id": "O33b2ssq3OWA",
    "scrolled": true
   },
   "outputs": [],
   "source": [
    "df = pd.read_csv(__PATH__,sep=\";\",header=0)"
   ]
  },
  {
   "cell_type": "code",
   "execution_count": 4,
   "metadata": {
    "colab": {
     "base_uri": "https://localhost:8080/",
     "height": 585
    },
    "colab_type": "code",
    "id": "xycNWBWL3OWG",
    "outputId": "008661bf-0843-4f93-869d-49b2fb12e0a5"
   },
   "outputs": [
    {
     "data": {
      "text/html": [
       "<div>\n",
       "<style scoped>\n",
       "    .dataframe tbody tr th:only-of-type {\n",
       "        vertical-align: middle;\n",
       "    }\n",
       "\n",
       "    .dataframe tbody tr th {\n",
       "        vertical-align: top;\n",
       "    }\n",
       "\n",
       "    .dataframe thead th {\n",
       "        text-align: right;\n",
       "    }\n",
       "</style>\n",
       "<table border=\"1\" class=\"dataframe\">\n",
       "  <thead>\n",
       "    <tr style=\"text-align: right;\">\n",
       "      <th></th>\n",
       "      <th>id</th>\n",
       "      <th>updatedDate</th>\n",
       "      <th>publishedDate</th>\n",
       "      <th>title</th>\n",
       "      <th>summary</th>\n",
       "      <th>authors</th>\n",
       "      <th>category</th>\n",
       "      <th>metaData</th>\n",
       "      <th>downloadLink</th>\n",
       "      <th>filePath</th>\n",
       "    </tr>\n",
       "  </thead>\n",
       "  <tbody>\n",
       "    <tr>\n",
       "      <th>0</th>\n",
       "      <td>http://arxiv.org/abs/1407.6950v1</td>\n",
       "      <td>2014-07-24T16:56:39Z</td>\n",
       "      <td>2014-07-24T16:56:39Z</td>\n",
       "      <td>How,whenAndHowMuchACardDeckIsWellShuffled.pdf</td>\n",
       "      <td>The Thesis Consider The Mixing Of Few  3 4  ...</td>\n",
       "      <td>Benjamin Isac Fargion</td>\n",
       "      <td>cs.DM</td>\n",
       "      <td>Italian Thesis In Engeenering Computer, 26 Feb...</td>\n",
       "      <td>http://arxiv.org/pdf/1407.6950v1.pdf</td>\n",
       "      <td>./files/How,whenAndHowMuchACardDeckIsWellShuff...</td>\n",
       "    </tr>\n",
       "    <tr>\n",
       "      <th>1</th>\n",
       "      <td>http://arxiv.org/abs/0907.0618v1</td>\n",
       "      <td>2009-07-03T12:35:10Z</td>\n",
       "      <td>2009-07-03T12:35:10Z</td>\n",
       "      <td>QuantumIsometryGroups.pdf</td>\n",
       "      <td>This Thesis Contains The Formulation And Com...</td>\n",
       "      <td>Jyotishman Bhowmick</td>\n",
       "      <td>math.OA</td>\n",
       "      <td>Thesis</td>\n",
       "      <td>http://arxiv.org/pdf/0907.0618v1.pdf</td>\n",
       "      <td>./files/QuantumIsometryGroups.pdf</td>\n",
       "    </tr>\n",
       "    <tr>\n",
       "      <th>2</th>\n",
       "      <td>http://arxiv.org/abs/1806.09601v2</td>\n",
       "      <td>2018-07-14T17:06:27Z</td>\n",
       "      <td>2018-06-25T17:55:59Z</td>\n",
       "      <td>ComputationAndBoundingOfFolkmanNumbers.pdf</td>\n",
       "      <td>Phd Thesis Under The Supervision Of Professo...</td>\n",
       "      <td>Aleksandar Bikov</td>\n",
       "      <td>math.CO</td>\n",
       "      <td>PhD Thesis</td>\n",
       "      <td>http://arxiv.org/pdf/1806.09601v2.pdf</td>\n",
       "      <td>./files/ComputationAndBoundingOfFolkmanNumbers...</td>\n",
       "    </tr>\n",
       "    <tr>\n",
       "      <th>3</th>\n",
       "      <td>http://arxiv.org/abs/1905.03014v1</td>\n",
       "      <td>2019-05-08T11:47:34Z</td>\n",
       "      <td>2019-05-08T11:47:34Z</td>\n",
       "      <td>OnChurch'sThesisInCubicalAssemblies.pdf</td>\n",
       "      <td>We Show That Church's Thesis, The Axiom Stat...</td>\n",
       "      <td>Andrew Swan, Taichi Uemura,</td>\n",
       "      <td>math.LO</td>\n",
       "      <td>0</td>\n",
       "      <td>http://arxiv.org/pdf/1905.03014v1.pdf</td>\n",
       "      <td>./files/OnChurch'sThesisInCubicalAssemblies.pdf</td>\n",
       "    </tr>\n",
       "    <tr>\n",
       "      <th>4</th>\n",
       "      <td>http://arxiv.org/abs/1901.04911v1</td>\n",
       "      <td>2019-01-15T16:24:07Z</td>\n",
       "      <td>2019-01-15T16:24:07Z</td>\n",
       "      <td>UnconstrainedChurchTuringThesisCannotPossiblyB...</td>\n",
       "      <td>The Church Turing Thesis Asserts That If A P...</td>\n",
       "      <td>Yuri Gurevich</td>\n",
       "      <td>cs.LO</td>\n",
       "      <td>0</td>\n",
       "      <td>http://arxiv.org/pdf/1901.04911v1.pdf</td>\n",
       "      <td>./files/UnconstrainedChurchTuringThesisCannotP...</td>\n",
       "    </tr>\n",
       "  </tbody>\n",
       "</table>\n",
       "</div>"
      ],
      "text/plain": [
       "                                  id           updatedDate  \\\n",
       "0   http://arxiv.org/abs/1407.6950v1  2014-07-24T16:56:39Z   \n",
       "1   http://arxiv.org/abs/0907.0618v1  2009-07-03T12:35:10Z   \n",
       "2  http://arxiv.org/abs/1806.09601v2  2018-07-14T17:06:27Z   \n",
       "3  http://arxiv.org/abs/1905.03014v1  2019-05-08T11:47:34Z   \n",
       "4  http://arxiv.org/abs/1901.04911v1  2019-01-15T16:24:07Z   \n",
       "\n",
       "          publishedDate                                              title  \\\n",
       "0  2014-07-24T16:56:39Z      How,whenAndHowMuchACardDeckIsWellShuffled.pdf   \n",
       "1  2009-07-03T12:35:10Z                          QuantumIsometryGroups.pdf   \n",
       "2  2018-06-25T17:55:59Z         ComputationAndBoundingOfFolkmanNumbers.pdf   \n",
       "3  2019-05-08T11:47:34Z            OnChurch'sThesisInCubicalAssemblies.pdf   \n",
       "4  2019-01-15T16:24:07Z  UnconstrainedChurchTuringThesisCannotPossiblyB...   \n",
       "\n",
       "                                             summary  \\\n",
       "0    The Thesis Consider The Mixing Of Few  3 4  ...   \n",
       "1    This Thesis Contains The Formulation And Com...   \n",
       "2    Phd Thesis Under The Supervision Of Professo...   \n",
       "3    We Show That Church's Thesis, The Axiom Stat...   \n",
       "4    The Church Turing Thesis Asserts That If A P...   \n",
       "\n",
       "                        authors category  \\\n",
       "0         Benjamin Isac Fargion    cs.DM   \n",
       "1           Jyotishman Bhowmick  math.OA   \n",
       "2              Aleksandar Bikov  math.CO   \n",
       "3  Andrew Swan, Taichi Uemura,   math.LO   \n",
       "4                 Yuri Gurevich    cs.LO   \n",
       "\n",
       "                                            metaData  \\\n",
       "0  Italian Thesis In Engeenering Computer, 26 Feb...   \n",
       "1                                             Thesis   \n",
       "2                                         PhD Thesis   \n",
       "3                                                  0   \n",
       "4                                                  0   \n",
       "\n",
       "                            downloadLink  \\\n",
       "0   http://arxiv.org/pdf/1407.6950v1.pdf   \n",
       "1   http://arxiv.org/pdf/0907.0618v1.pdf   \n",
       "2  http://arxiv.org/pdf/1806.09601v2.pdf   \n",
       "3  http://arxiv.org/pdf/1905.03014v1.pdf   \n",
       "4  http://arxiv.org/pdf/1901.04911v1.pdf   \n",
       "\n",
       "                                            filePath  \n",
       "0  ./files/How,whenAndHowMuchACardDeckIsWellShuff...  \n",
       "1                  ./files/QuantumIsometryGroups.pdf  \n",
       "2  ./files/ComputationAndBoundingOfFolkmanNumbers...  \n",
       "3    ./files/OnChurch'sThesisInCubicalAssemblies.pdf  \n",
       "4  ./files/UnconstrainedChurchTuringThesisCannotP...  "
      ]
     },
     "execution_count": 4,
     "metadata": {},
     "output_type": "execute_result"
    }
   ],
   "source": [
    "df.head()"
   ]
  },
  {
   "cell_type": "markdown",
   "metadata": {
    "colab_type": "text",
    "id": "NR3hbR6A3OWJ"
   },
   "source": [
    "#### Preprocessing the title to list of tokens"
   ]
  },
  {
   "cell_type": "code",
   "execution_count": 5,
   "metadata": {
    "colab": {},
    "colab_type": "code",
    "id": "Rrhj1FoK3OWM"
   },
   "outputs": [],
   "source": [
    "titles = list(df['title'].apply(\n",
    "    lambda t : \n",
    "        tuple(\n",
    "            filter(lambda e:not e in stopwords.words('english'),\n",
    "                map(lambda e:e.lower(),\n",
    "                       re.findall('([A-Z]{1}[a-z]+)',t.replace('.pdf','')))\n",
    "                )\n",
    "            )\n",
    "        )\n",
    "    )"
   ]
  },
  {
   "cell_type": "code",
   "execution_count": 6,
   "metadata": {
    "colab": {},
    "colab_type": "code",
    "id": "VMG4soOm3OWO"
   },
   "outputs": [],
   "source": [
    "res = {}\n",
    "for title in titles: \n",
    "    synsets = {} \n",
    "    for word in title: \n",
    "        synsets[word]=[synset for synset in wn.synsets(word)] \n",
    "    res[title] = synsets"
   ]
  },
  {
   "cell_type": "markdown",
   "metadata": {
    "colab_type": "text",
    "id": "jHHGCNLn3OWT"
   },
   "source": [
    "#### Top ten closest articles with fuzzy metrics of titles"
   ]
  },
  {
   "cell_type": "code",
   "execution_count": 7,
   "metadata": {
    "colab": {},
    "colab_type": "code",
    "id": "zuo9HA59KE2s"
   },
   "outputs": [],
   "source": [
    "def extract_hypernyms_level_1(token):\n",
    "    hypernyms1 = []\n",
    "    synsets_ = wn.synsets(token) \n",
    "    for i in range(len(synsets_)):\n",
    "        hypernyms1.extend(wn.synsets(token)[i].hypernyms()) \n",
    "    hyper = set(hypernyms1)\n",
    "    return hyper\n",
    "\n",
    "def extract_hypernyms_level_2(token):\n",
    "    hypernym_level_1 = extract_hypernyms_level_1(token)\n",
    "    hypernyms2 = []\n",
    "    for hypernym1 in hypernym_level_1:\n",
    "        hypernyms2.extend(hypernym1.hypernyms())\n",
    "    hyper = set(hypernyms2)\n",
    "    return hyper\n",
    "\n",
    "def common_hypernyms(a,b):\n",
    "    return len(a.intersection(b))\n"
   ]
  },
  {
   "cell_type": "code",
   "execution_count": 10,
   "metadata": {
    "colab": {},
    "colab_type": "code",
    "id": "JM5G1hKuKKs4"
   },
   "outputs": [],
   "source": [
    "def calculate_fscore(a,b):\n",
    "    intersection = a.intersection(b)\n",
    "    if (len(intersection) == 0):\n",
    "        fscore = 0\n",
    "    else:\n",
    "        prec = len(intersection)/(len(a))\n",
    "        recall = len(intersection)/(len(b))\n",
    "        fscore = 2 * prec * recall/(prec + recall)\n",
    "    return intersection, fscore\n",
    "\n",
    "\n",
    "def distance(a,b):\n",
    "    a = set(a)\n",
    "    b = set(b)\n",
    "    interseption, fscore = calculate_fscore(a,b)\n",
    "    a = a - interseption \n",
    "    b = b - interseption \n",
    "    if len(a) == 0 or len(b) == 0: \n",
    "        result = 1 - fscore\n",
    "    else: \n",
    "        penalty = 0\n",
    "     \n",
    "        for word_a in a:\n",
    "            for word_b in b:\n",
    "                hyp_a_1 = extract_hypernyms_level_1(word_a)\n",
    "                hyp_b_1 = extract_hypernyms_level_1(word_b)\n",
    "                number_of_1level_hyp = common_hypernyms(hyp_a_1,hyp_b_1)\n",
    "                if (number_of_1level_hyp > 0):\n",
    "                    penalty = penalty + 0.66\n",
    "              \n",
    "                if (number_of_1level_hyp == 0):\n",
    "                    hyp_a_2 = extract_hypernyms_level_2(word_a)\n",
    "                    hyp_b_2 = extract_hypernyms_level_2(word_b)\n",
    "                    number_of_2level_hyp = common_hypernyms(hyp_a_2, hyp_b_2) + common_hypernyms(hyp_a_2, hyp_b_1)+ common_hypernyms(hyp_a_1, hyp_b_2)\n",
    "                    if (number_of_2level_hyp > 0):\n",
    "                        penalty = penalty + 0.33\n",
    "       \n",
    "        if penalty > 0:\n",
    "            recall_hyp = penalty/len(a)\n",
    "            prec_hyp = penalty/len(b)\n",
    "            fscore_penalty = 2 * (recall_hyp*prec_hyp) / (prec_hyp + recall_hyp)\n",
    "        else:\n",
    "            fscore_penalty = 0\n",
    "                                                    \n",
    "        result = 1 - (2 * fscore + fscore_penalty)/3   \n",
    "    \n",
    "    return result;"
   ]
  },
  {
   "cell_type": "code",
   "execution_count": 11,
   "metadata": {
    "colab": {
     "base_uri": "https://localhost:8080/",
     "height": 1000
    },
    "colab_type": "code",
    "id": "_x4-Dkq03OWe",
    "outputId": "e7a52d1c-9e20-46e4-d466-2a09b1a370d5"
   },
   "outputs": [
    {
     "name": "stdout",
     "output_type": "stream",
     "text": [
      "# 10000\n",
      "# 20000\n",
      "# 30000\n",
      "# 40000\n",
      "# 50000\n",
      "# 60000\n",
      "# 70000\n",
      "# 80000\n",
      "# 90000\n",
      "# 100000\n",
      "# 110000\n",
      "# 120000\n",
      "# 130000\n",
      "# 140000\n",
      "# 150000\n",
      "# 160000\n",
      "# 170000\n",
      "# 180000\n",
      "# 190000\n",
      "# 200000\n",
      "# 210000\n",
      "# 220000\n",
      "# 230000\n",
      "# 240000\n",
      "# 250000\n",
      "# 260000\n",
      "# 270000\n",
      "# 280000\n",
      "# 290000\n",
      "# 300000\n",
      "# 310000\n",
      "# 320000\n",
      "# 330000\n",
      "# 340000\n",
      "# 350000\n",
      "# 360000\n",
      "# 370000\n",
      "# 380000\n",
      "# 390000\n",
      "# 400000\n",
      "# 410000\n",
      "# 420000\n",
      "# 430000\n",
      "# 440000\n",
      "# 450000\n",
      "# 460000\n",
      "# 470000\n",
      "# 480000\n",
      "# 490000\n",
      "# 500000\n",
      "# 510000\n",
      "# 520000\n",
      "# 530000\n",
      "# 540000\n",
      "# 550000\n",
      "# 560000\n",
      "# 570000\n",
      "# 580000\n",
      "# 590000\n",
      "# 600000\n",
      "# 610000\n",
      "# 620000\n",
      "# 630000\n",
      "# 640000\n",
      "# 650000\n",
      "# 660000\n",
      "# 670000\n",
      "# 680000\n",
      "# 690000\n",
      "# 700000\n",
      "# 710000\n",
      "# 720000\n",
      "# 730000\n",
      "# 740000\n",
      "# 750000\n",
      "# 760000\n",
      "# 770000\n",
      "# 780000\n",
      "# 790000\n",
      "# 800000\n",
      "# 810000\n",
      "# 820000\n",
      "# 830000\n",
      "# 840000\n",
      "# 850000\n",
      "# 860000\n",
      "# 870000\n",
      "# 880000\n",
      "# 890000\n",
      "# 900000\n",
      "# 910000\n",
      "# 920000\n",
      "# 930000\n",
      "# 940000\n",
      "# 950000\n",
      "# 960000\n",
      "# 970000\n",
      "# 980000\n",
      "# 990000\n"
     ]
    }
   ],
   "source": [
    "buff = list(res.items())\n",
    "epoch = 0\n",
    "dist = np.zeros((len(buff),len(buff)))\n",
    "for lli,ll in enumerate(buff):\n",
    "    for rri,rr in enumerate(buff):\n",
    "        epoch = epoch + 1\n",
    "        dist[lli,rri]=distance(ll[0],rr[0])\n",
    "        \n",
    "        if (epoch%10000 == 0):\n",
    "            print('#', epoch)"
   ]
  },
  {
   "cell_type": "code",
   "execution_count": 12,
   "metadata": {
    "colab": {
     "base_uri": "https://localhost:8080/",
     "height": 822,
     "referenced_widgets": [
      "063ca6e2e2e7474590958b5bafa914fa",
      "404fffcc2c604650a90602b90a737d37",
      "de15ce191ced475cb6f339e9f606627c",
      "a9ea9b411afc48a4817e6cd3996d28da",
      "0152e74fb5c845e980ebddb274e3de4d",
      "530e87b3a77d4f20bc14441e28a42bc0",
      "f9a6c3d2955e4c4a86084d78fe0a52b9"
     ]
    },
    "colab_type": "code",
    "id": "AcLgZaqW3OWt",
    "outputId": "b9a01eb4-90f4-4e37-c122-bc670ba81213"
   },
   "outputs": [
    {
     "data": {
      "application/vnd.jupyter.widget-view+json": {
       "model_id": "89d25e76b4d64d75a59a966c2eef21f0",
       "version_major": 2,
       "version_minor": 0
      },
      "text/plain": [
       "interactive(children=(IntSlider(value=0, description='ind', max=995), Output()), _dom_classes=('widget-interac…"
      ]
     },
     "metadata": {},
     "output_type": "display_data"
    }
   ],
   "source": [
    "@interact(ind=(0,len(buff)-1,1))\n",
    "def h(ind=0):\n",
    "    pp = pprint.PrettyPrinter(indent=4)\n",
    "    print(' '.join(buff[ind][0]))\n",
    "    pp.pprint([buff[i][0] for i in dist[ind][:].argsort()[1:11]])\n"
   ]
  },
  {
   "cell_type": "code",
   "execution_count": 13,
   "metadata": {
    "colab": {
     "base_uri": "https://localhost:8080/",
     "height": 907,
     "referenced_widgets": [
      "d1aacab13bab4d50bea66f99e51dab00",
      "5a688e30a9064b899a2f67c25e941e48",
      "edb3af1130414badaf15908df15b967b",
      "5e55ed6a095442c89d9269501fcbe76d",
      "d89a65e6bc614eb3a159c90bebc9d2b2",
      "4c33cad143ca4b93a274e8dbb9b57ef2",
      "45cfa094377e4ca98563441fea9ca687"
     ]
    },
    "colab_type": "code",
    "id": "1xg_1kt43OWy",
    "outputId": "d366c348-ce9c-4392-c526-f5d2446e18e3"
   },
   "outputs": [
    {
     "data": {
      "application/vnd.jupyter.widget-view+json": {
       "model_id": "309db9cd76bb424b8bdc8de54827ad76",
       "version_major": 2,
       "version_minor": 0
      },
      "text/plain": [
       "interactive(children=(IntSlider(value=0, description='ind', max=995), Output()), _dom_classes=('widget-interac…"
      ]
     },
     "metadata": {},
     "output_type": "display_data"
    }
   ],
   "source": [
    "@interact(ind=(0,len(buff)-1,1))\n",
    "def hypernyms(ind=0):\n",
    "    pp = pprint.PrettyPrinter(indent=4)\n",
    "    print(' '.join(buff[ind][0]))\n",
    "    pp.pprint(buff[ind][1])"
   ]
  },
  {
   "cell_type": "code",
   "execution_count": 0,
   "metadata": {
    "colab": {},
    "colab_type": "code",
    "id": "e2OREKg53OW0"
   },
   "outputs": [],
   "source": []
  }
 ],
 "metadata": {
  "colab": {
   "collapsed_sections": [],
   "name": "lab7_NamDiana.ipynb",
   "provenance": []
  },
  "kernelspec": {
   "display_name": "Python 3",
   "language": "python",
   "name": "python3"
  },
  "language_info": {
   "codemirror_mode": {
    "name": "ipython",
    "version": 3
   },
   "file_extension": ".py",
   "mimetype": "text/x-python",
   "name": "python",
   "nbconvert_exporter": "python",
   "pygments_lexer": "ipython3",
   "version": "3.7.3"
  },
  "widgets": {
   "application/vnd.jupyter.widget-state+json": {
    "0152e74fb5c845e980ebddb274e3de4d": {
     "model_module": "@jupyter-widgets/controls",
     "model_name": "SliderStyleModel",
     "state": {
      "_model_module": "@jupyter-widgets/controls",
      "_model_module_version": "1.5.0",
      "_model_name": "SliderStyleModel",
      "_view_count": null,
      "_view_module": "@jupyter-widgets/base",
      "_view_module_version": "1.2.0",
      "_view_name": "StyleView",
      "description_width": "",
      "handle_color": null
     }
    },
    "063ca6e2e2e7474590958b5bafa914fa": {
     "model_module": "@jupyter-widgets/controls",
     "model_name": "VBoxModel",
     "state": {
      "_dom_classes": [
       "widget-interact"
      ],
      "_model_module": "@jupyter-widgets/controls",
      "_model_module_version": "1.5.0",
      "_model_name": "VBoxModel",
      "_view_count": null,
      "_view_module": "@jupyter-widgets/controls",
      "_view_module_version": "1.5.0",
      "_view_name": "VBoxView",
      "box_style": "",
      "children": [
       "IPY_MODEL_de15ce191ced475cb6f339e9f606627c",
       "IPY_MODEL_a9ea9b411afc48a4817e6cd3996d28da"
      ],
      "layout": "IPY_MODEL_404fffcc2c604650a90602b90a737d37"
     }
    },
    "404fffcc2c604650a90602b90a737d37": {
     "model_module": "@jupyter-widgets/base",
     "model_name": "LayoutModel",
     "state": {
      "_model_module": "@jupyter-widgets/base",
      "_model_module_version": "1.2.0",
      "_model_name": "LayoutModel",
      "_view_count": null,
      "_view_module": "@jupyter-widgets/base",
      "_view_module_version": "1.2.0",
      "_view_name": "LayoutView",
      "align_content": null,
      "align_items": null,
      "align_self": null,
      "border": null,
      "bottom": null,
      "display": null,
      "flex": null,
      "flex_flow": null,
      "grid_area": null,
      "grid_auto_columns": null,
      "grid_auto_flow": null,
      "grid_auto_rows": null,
      "grid_column": null,
      "grid_gap": null,
      "grid_row": null,
      "grid_template_areas": null,
      "grid_template_columns": null,
      "grid_template_rows": null,
      "height": null,
      "justify_content": null,
      "justify_items": null,
      "left": null,
      "margin": null,
      "max_height": null,
      "max_width": null,
      "min_height": null,
      "min_width": null,
      "object_fit": null,
      "object_position": null,
      "order": null,
      "overflow": null,
      "overflow_x": null,
      "overflow_y": null,
      "padding": null,
      "right": null,
      "top": null,
      "visibility": null,
      "width": null
     }
    },
    "45cfa094377e4ca98563441fea9ca687": {
     "model_module": "@jupyter-widgets/base",
     "model_name": "LayoutModel",
     "state": {
      "_model_module": "@jupyter-widgets/base",
      "_model_module_version": "1.2.0",
      "_model_name": "LayoutModel",
      "_view_count": null,
      "_view_module": "@jupyter-widgets/base",
      "_view_module_version": "1.2.0",
      "_view_name": "LayoutView",
      "align_content": null,
      "align_items": null,
      "align_self": null,
      "border": null,
      "bottom": null,
      "display": null,
      "flex": null,
      "flex_flow": null,
      "grid_area": null,
      "grid_auto_columns": null,
      "grid_auto_flow": null,
      "grid_auto_rows": null,
      "grid_column": null,
      "grid_gap": null,
      "grid_row": null,
      "grid_template_areas": null,
      "grid_template_columns": null,
      "grid_template_rows": null,
      "height": null,
      "justify_content": null,
      "justify_items": null,
      "left": null,
      "margin": null,
      "max_height": null,
      "max_width": null,
      "min_height": null,
      "min_width": null,
      "object_fit": null,
      "object_position": null,
      "order": null,
      "overflow": null,
      "overflow_x": null,
      "overflow_y": null,
      "padding": null,
      "right": null,
      "top": null,
      "visibility": null,
      "width": null
     }
    },
    "4c33cad143ca4b93a274e8dbb9b57ef2": {
     "model_module": "@jupyter-widgets/base",
     "model_name": "LayoutModel",
     "state": {
      "_model_module": "@jupyter-widgets/base",
      "_model_module_version": "1.2.0",
      "_model_name": "LayoutModel",
      "_view_count": null,
      "_view_module": "@jupyter-widgets/base",
      "_view_module_version": "1.2.0",
      "_view_name": "LayoutView",
      "align_content": null,
      "align_items": null,
      "align_self": null,
      "border": null,
      "bottom": null,
      "display": null,
      "flex": null,
      "flex_flow": null,
      "grid_area": null,
      "grid_auto_columns": null,
      "grid_auto_flow": null,
      "grid_auto_rows": null,
      "grid_column": null,
      "grid_gap": null,
      "grid_row": null,
      "grid_template_areas": null,
      "grid_template_columns": null,
      "grid_template_rows": null,
      "height": null,
      "justify_content": null,
      "justify_items": null,
      "left": null,
      "margin": null,
      "max_height": null,
      "max_width": null,
      "min_height": null,
      "min_width": null,
      "object_fit": null,
      "object_position": null,
      "order": null,
      "overflow": null,
      "overflow_x": null,
      "overflow_y": null,
      "padding": null,
      "right": null,
      "top": null,
      "visibility": null,
      "width": null
     }
    },
    "530e87b3a77d4f20bc14441e28a42bc0": {
     "model_module": "@jupyter-widgets/base",
     "model_name": "LayoutModel",
     "state": {
      "_model_module": "@jupyter-widgets/base",
      "_model_module_version": "1.2.0",
      "_model_name": "LayoutModel",
      "_view_count": null,
      "_view_module": "@jupyter-widgets/base",
      "_view_module_version": "1.2.0",
      "_view_name": "LayoutView",
      "align_content": null,
      "align_items": null,
      "align_self": null,
      "border": null,
      "bottom": null,
      "display": null,
      "flex": null,
      "flex_flow": null,
      "grid_area": null,
      "grid_auto_columns": null,
      "grid_auto_flow": null,
      "grid_auto_rows": null,
      "grid_column": null,
      "grid_gap": null,
      "grid_row": null,
      "grid_template_areas": null,
      "grid_template_columns": null,
      "grid_template_rows": null,
      "height": null,
      "justify_content": null,
      "justify_items": null,
      "left": null,
      "margin": null,
      "max_height": null,
      "max_width": null,
      "min_height": null,
      "min_width": null,
      "object_fit": null,
      "object_position": null,
      "order": null,
      "overflow": null,
      "overflow_x": null,
      "overflow_y": null,
      "padding": null,
      "right": null,
      "top": null,
      "visibility": null,
      "width": null
     }
    },
    "5a688e30a9064b899a2f67c25e941e48": {
     "model_module": "@jupyter-widgets/base",
     "model_name": "LayoutModel",
     "state": {
      "_model_module": "@jupyter-widgets/base",
      "_model_module_version": "1.2.0",
      "_model_name": "LayoutModel",
      "_view_count": null,
      "_view_module": "@jupyter-widgets/base",
      "_view_module_version": "1.2.0",
      "_view_name": "LayoutView",
      "align_content": null,
      "align_items": null,
      "align_self": null,
      "border": null,
      "bottom": null,
      "display": null,
      "flex": null,
      "flex_flow": null,
      "grid_area": null,
      "grid_auto_columns": null,
      "grid_auto_flow": null,
      "grid_auto_rows": null,
      "grid_column": null,
      "grid_gap": null,
      "grid_row": null,
      "grid_template_areas": null,
      "grid_template_columns": null,
      "grid_template_rows": null,
      "height": null,
      "justify_content": null,
      "justify_items": null,
      "left": null,
      "margin": null,
      "max_height": null,
      "max_width": null,
      "min_height": null,
      "min_width": null,
      "object_fit": null,
      "object_position": null,
      "order": null,
      "overflow": null,
      "overflow_x": null,
      "overflow_y": null,
      "padding": null,
      "right": null,
      "top": null,
      "visibility": null,
      "width": null
     }
    },
    "5e55ed6a095442c89d9269501fcbe76d": {
     "model_module": "@jupyter-widgets/output",
     "model_name": "OutputModel",
     "state": {
      "_dom_classes": [],
      "_model_module": "@jupyter-widgets/output",
      "_model_module_version": "1.0.0",
      "_model_name": "OutputModel",
      "_view_count": null,
      "_view_module": "@jupyter-widgets/output",
      "_view_module_version": "1.0.0",
      "_view_name": "OutputView",
      "layout": "IPY_MODEL_45cfa094377e4ca98563441fea9ca687",
      "msg_id": "",
      "outputs": []
     }
    },
    "a9ea9b411afc48a4817e6cd3996d28da": {
     "model_module": "@jupyter-widgets/output",
     "model_name": "OutputModel",
     "state": {
      "_dom_classes": [],
      "_model_module": "@jupyter-widgets/output",
      "_model_module_version": "1.0.0",
      "_model_name": "OutputModel",
      "_view_count": null,
      "_view_module": "@jupyter-widgets/output",
      "_view_module_version": "1.0.0",
      "_view_name": "OutputView",
      "layout": "IPY_MODEL_f9a6c3d2955e4c4a86084d78fe0a52b9",
      "msg_id": "",
      "outputs": [
       {
        "metadata": {
         "tags": []
        },
        "output_type": "stream",
        "stream": "stdout",
        "text": "recognizing semantic features faces using deep learning\n[   (   'deep',\n        'reinforcement',\n        'learning',\n        'using',\n        'capsules',\n        'advanced',\n        'game',\n        'environments'),\n    (   'deep',\n        'learning',\n        'attributed',\n        'graphs',\n        'journey',\n        'graphs',\n        'embeddings',\n        'back'),\n    (   'machine',\n        'learning',\n        'approach',\n        'recovery',\n        'scene',\n        'geometry',\n        'images'),\n    ('distributed', 'supervised', 'learning', 'using', 'neural', 'networks'),\n    (   'learning',\n        'adapt',\n        'class',\n        'specific',\n        'features',\n        'across',\n        'domains',\n        'semantic',\n        'segmentation'),\n    (   'using',\n        'reinforcement',\n        'learning',\n        'learn',\n        'play',\n        'text',\n        'based',\n        'games'),\n    ('deep', 'learning', 'automated', 'medical', 'image', 'analysis'),\n    ('pattern', 'recognition', 'using', 'artificial', 'immune', 'system'),\n    ('deep', 'convolutional', 'neural', 'networks', 'smile', 'recognition'),\n    ('vehicle', 'detection', 'deep', 'learning')]\n"
       }
      ]
     }
    },
    "d1aacab13bab4d50bea66f99e51dab00": {
     "model_module": "@jupyter-widgets/controls",
     "model_name": "VBoxModel",
     "state": {
      "_dom_classes": [
       "widget-interact"
      ],
      "_model_module": "@jupyter-widgets/controls",
      "_model_module_version": "1.5.0",
      "_model_name": "VBoxModel",
      "_view_count": null,
      "_view_module": "@jupyter-widgets/controls",
      "_view_module_version": "1.5.0",
      "_view_name": "VBoxView",
      "box_style": "",
      "children": [
       "IPY_MODEL_edb3af1130414badaf15908df15b967b",
       "IPY_MODEL_5e55ed6a095442c89d9269501fcbe76d"
      ],
      "layout": "IPY_MODEL_5a688e30a9064b899a2f67c25e941e48"
     }
    },
    "d89a65e6bc614eb3a159c90bebc9d2b2": {
     "model_module": "@jupyter-widgets/controls",
     "model_name": "SliderStyleModel",
     "state": {
      "_model_module": "@jupyter-widgets/controls",
      "_model_module_version": "1.5.0",
      "_model_name": "SliderStyleModel",
      "_view_count": null,
      "_view_module": "@jupyter-widgets/base",
      "_view_module_version": "1.2.0",
      "_view_name": "StyleView",
      "description_width": "",
      "handle_color": null
     }
    },
    "de15ce191ced475cb6f339e9f606627c": {
     "model_module": "@jupyter-widgets/controls",
     "model_name": "IntSliderModel",
     "state": {
      "_dom_classes": [],
      "_model_module": "@jupyter-widgets/controls",
      "_model_module_version": "1.5.0",
      "_model_name": "IntSliderModel",
      "_view_count": null,
      "_view_module": "@jupyter-widgets/controls",
      "_view_module_version": "1.5.0",
      "_view_name": "IntSliderView",
      "continuous_update": true,
      "description": "ind",
      "description_tooltip": null,
      "disabled": false,
      "layout": "IPY_MODEL_530e87b3a77d4f20bc14441e28a42bc0",
      "max": 995,
      "min": 0,
      "orientation": "horizontal",
      "readout": true,
      "readout_format": "d",
      "step": 1,
      "style": "IPY_MODEL_0152e74fb5c845e980ebddb274e3de4d",
      "value": 77
     }
    },
    "edb3af1130414badaf15908df15b967b": {
     "model_module": "@jupyter-widgets/controls",
     "model_name": "IntSliderModel",
     "state": {
      "_dom_classes": [],
      "_model_module": "@jupyter-widgets/controls",
      "_model_module_version": "1.5.0",
      "_model_name": "IntSliderModel",
      "_view_count": null,
      "_view_module": "@jupyter-widgets/controls",
      "_view_module_version": "1.5.0",
      "_view_name": "IntSliderView",
      "continuous_update": true,
      "description": "ind",
      "description_tooltip": null,
      "disabled": false,
      "layout": "IPY_MODEL_4c33cad143ca4b93a274e8dbb9b57ef2",
      "max": 995,
      "min": 0,
      "orientation": "horizontal",
      "readout": true,
      "readout_format": "d",
      "step": 1,
      "style": "IPY_MODEL_d89a65e6bc614eb3a159c90bebc9d2b2",
      "value": 0
     }
    },
    "f9a6c3d2955e4c4a86084d78fe0a52b9": {
     "model_module": "@jupyter-widgets/base",
     "model_name": "LayoutModel",
     "state": {
      "_model_module": "@jupyter-widgets/base",
      "_model_module_version": "1.2.0",
      "_model_name": "LayoutModel",
      "_view_count": null,
      "_view_module": "@jupyter-widgets/base",
      "_view_module_version": "1.2.0",
      "_view_name": "LayoutView",
      "align_content": null,
      "align_items": null,
      "align_self": null,
      "border": null,
      "bottom": null,
      "display": null,
      "flex": null,
      "flex_flow": null,
      "grid_area": null,
      "grid_auto_columns": null,
      "grid_auto_flow": null,
      "grid_auto_rows": null,
      "grid_column": null,
      "grid_gap": null,
      "grid_row": null,
      "grid_template_areas": null,
      "grid_template_columns": null,
      "grid_template_rows": null,
      "height": null,
      "justify_content": null,
      "justify_items": null,
      "left": null,
      "margin": null,
      "max_height": null,
      "max_width": null,
      "min_height": null,
      "min_width": null,
      "object_fit": null,
      "object_position": null,
      "order": null,
      "overflow": null,
      "overflow_x": null,
      "overflow_y": null,
      "padding": null,
      "right": null,
      "top": null,
      "visibility": null,
      "width": null
     }
    }
   }
  }
 },
 "nbformat": 4,
 "nbformat_minor": 1
}
