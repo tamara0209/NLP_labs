{
 "cells": [
  {
   "cell_type": "markdown",
   "metadata": {
    "colab_type": "text",
    "id": "hMo3kj3LC3rA"
   },
   "source": [
    "#### Lab 7 \n",
    "#### Rouge Metrics"
   ]
  },
  {
   "cell_type": "code",
   "execution_count": 87,
   "metadata": {
    "colab": {},
    "colab_type": "code",
    "id": "obigo_n1C3rB",
    "outputId": "5a52f044-6ee2-4495-d030-b5253dbfd1db"
   },
   "outputs": [],
   "source": [
    "import pandas as pd\n",
    "from nltk.corpus import stopwords\n",
    "from nltk.corpus import wordnet as wn\n",
    "import numpy as np\n",
    "from fuzzywuzzy import fuzz \n",
    "import ipywidgets as widgets\n",
    "import pprint\n",
    "from ipywidgets import interact, interact_manual\n",
    "import re\n",
    "__PATH__ = \"/Users/ts/Desktop/lab7_RougeMetrix_Tamara Savina/data.csv\""
   ]
  },
  {
   "cell_type": "code",
   "execution_count": 88,
   "metadata": {
    "colab": {},
    "colab_type": "code",
    "id": "4UWQysSWC3rG",
    "outputId": "48a9bae7-de24-44c9-b11d-215646ae514b"
   },
   "outputs": [],
   "source": [
    "#import nltk\n",
    "#nltk.download('stopwords')\n",
    "#nltk.download('wordnet')"
   ]
  },
  {
   "cell_type": "code",
   "execution_count": 89,
   "metadata": {
    "colab": {},
    "colab_type": "code",
    "id": "qg2mYAm3C3rI",
    "scrolled": true
   },
   "outputs": [],
   "source": [
    "df = pd.read_csv(__PATH__,sep=\";\",header=0)"
   ]
  },
  {
   "cell_type": "code",
   "execution_count": 90,
   "metadata": {},
   "outputs": [
    {
     "data": {
      "text/html": [
       "<div>\n",
       "<style scoped>\n",
       "    .dataframe tbody tr th:only-of-type {\n",
       "        vertical-align: middle;\n",
       "    }\n",
       "\n",
       "    .dataframe tbody tr th {\n",
       "        vertical-align: top;\n",
       "    }\n",
       "\n",
       "    .dataframe thead th {\n",
       "        text-align: right;\n",
       "    }\n",
       "</style>\n",
       "<table border=\"1\" class=\"dataframe\">\n",
       "  <thead>\n",
       "    <tr style=\"text-align: right;\">\n",
       "      <th></th>\n",
       "      <th>id</th>\n",
       "      <th>updatedDate</th>\n",
       "      <th>publishedDate</th>\n",
       "      <th>title</th>\n",
       "      <th>summary</th>\n",
       "      <th>authors</th>\n",
       "      <th>category</th>\n",
       "      <th>metaData</th>\n",
       "      <th>downloadLink</th>\n",
       "      <th>filePath</th>\n",
       "    </tr>\n",
       "  </thead>\n",
       "  <tbody>\n",
       "    <tr>\n",
       "      <th>0</th>\n",
       "      <td>http://arxiv.org/abs/1407.6950v1</td>\n",
       "      <td>2014-07-24T16:56:39Z</td>\n",
       "      <td>2014-07-24T16:56:39Z</td>\n",
       "      <td>How,whenAndHowMuchACardDeckIsWellShuffled.pdf</td>\n",
       "      <td>The Thesis Consider The Mixing Of Few  3 4  ...</td>\n",
       "      <td>Benjamin Isac Fargion</td>\n",
       "      <td>cs.DM</td>\n",
       "      <td>Italian Thesis In Engeenering Computer, 26 Feb...</td>\n",
       "      <td>http://arxiv.org/pdf/1407.6950v1.pdf</td>\n",
       "      <td>./files/How,whenAndHowMuchACardDeckIsWellShuff...</td>\n",
       "    </tr>\n",
       "    <tr>\n",
       "      <th>1</th>\n",
       "      <td>http://arxiv.org/abs/0907.0618v1</td>\n",
       "      <td>2009-07-03T12:35:10Z</td>\n",
       "      <td>2009-07-03T12:35:10Z</td>\n",
       "      <td>QuantumIsometryGroups.pdf</td>\n",
       "      <td>This Thesis Contains The Formulation And Com...</td>\n",
       "      <td>Jyotishman Bhowmick</td>\n",
       "      <td>math.OA</td>\n",
       "      <td>Thesis</td>\n",
       "      <td>http://arxiv.org/pdf/0907.0618v1.pdf</td>\n",
       "      <td>./files/QuantumIsometryGroups.pdf</td>\n",
       "    </tr>\n",
       "    <tr>\n",
       "      <th>2</th>\n",
       "      <td>http://arxiv.org/abs/1806.09601v2</td>\n",
       "      <td>2018-07-14T17:06:27Z</td>\n",
       "      <td>2018-06-25T17:55:59Z</td>\n",
       "      <td>ComputationAndBoundingOfFolkmanNumbers.pdf</td>\n",
       "      <td>Phd Thesis Under The Supervision Of Professo...</td>\n",
       "      <td>Aleksandar Bikov</td>\n",
       "      <td>math.CO</td>\n",
       "      <td>PhD Thesis</td>\n",
       "      <td>http://arxiv.org/pdf/1806.09601v2.pdf</td>\n",
       "      <td>./files/ComputationAndBoundingOfFolkmanNumbers...</td>\n",
       "    </tr>\n",
       "    <tr>\n",
       "      <th>3</th>\n",
       "      <td>http://arxiv.org/abs/1905.03014v1</td>\n",
       "      <td>2019-05-08T11:47:34Z</td>\n",
       "      <td>2019-05-08T11:47:34Z</td>\n",
       "      <td>OnChurch'sThesisInCubicalAssemblies.pdf</td>\n",
       "      <td>We Show That Church's Thesis, The Axiom Stat...</td>\n",
       "      <td>Andrew Swan, Taichi Uemura,</td>\n",
       "      <td>math.LO</td>\n",
       "      <td>0</td>\n",
       "      <td>http://arxiv.org/pdf/1905.03014v1.pdf</td>\n",
       "      <td>./files/OnChurch'sThesisInCubicalAssemblies.pdf</td>\n",
       "    </tr>\n",
       "    <tr>\n",
       "      <th>4</th>\n",
       "      <td>http://arxiv.org/abs/1901.04911v1</td>\n",
       "      <td>2019-01-15T16:24:07Z</td>\n",
       "      <td>2019-01-15T16:24:07Z</td>\n",
       "      <td>UnconstrainedChurchTuringThesisCannotPossiblyB...</td>\n",
       "      <td>The Church Turing Thesis Asserts That If A P...</td>\n",
       "      <td>Yuri Gurevich</td>\n",
       "      <td>cs.LO</td>\n",
       "      <td>0</td>\n",
       "      <td>http://arxiv.org/pdf/1901.04911v1.pdf</td>\n",
       "      <td>./files/UnconstrainedChurchTuringThesisCannotP...</td>\n",
       "    </tr>\n",
       "  </tbody>\n",
       "</table>\n",
       "</div>"
      ],
      "text/plain": [
       "                                  id           updatedDate  \\\n",
       "0   http://arxiv.org/abs/1407.6950v1  2014-07-24T16:56:39Z   \n",
       "1   http://arxiv.org/abs/0907.0618v1  2009-07-03T12:35:10Z   \n",
       "2  http://arxiv.org/abs/1806.09601v2  2018-07-14T17:06:27Z   \n",
       "3  http://arxiv.org/abs/1905.03014v1  2019-05-08T11:47:34Z   \n",
       "4  http://arxiv.org/abs/1901.04911v1  2019-01-15T16:24:07Z   \n",
       "\n",
       "          publishedDate                                              title  \\\n",
       "0  2014-07-24T16:56:39Z      How,whenAndHowMuchACardDeckIsWellShuffled.pdf   \n",
       "1  2009-07-03T12:35:10Z                          QuantumIsometryGroups.pdf   \n",
       "2  2018-06-25T17:55:59Z         ComputationAndBoundingOfFolkmanNumbers.pdf   \n",
       "3  2019-05-08T11:47:34Z            OnChurch'sThesisInCubicalAssemblies.pdf   \n",
       "4  2019-01-15T16:24:07Z  UnconstrainedChurchTuringThesisCannotPossiblyB...   \n",
       "\n",
       "                                             summary  \\\n",
       "0    The Thesis Consider The Mixing Of Few  3 4  ...   \n",
       "1    This Thesis Contains The Formulation And Com...   \n",
       "2    Phd Thesis Under The Supervision Of Professo...   \n",
       "3    We Show That Church's Thesis, The Axiom Stat...   \n",
       "4    The Church Turing Thesis Asserts That If A P...   \n",
       "\n",
       "                        authors category  \\\n",
       "0         Benjamin Isac Fargion    cs.DM   \n",
       "1           Jyotishman Bhowmick  math.OA   \n",
       "2              Aleksandar Bikov  math.CO   \n",
       "3  Andrew Swan, Taichi Uemura,   math.LO   \n",
       "4                 Yuri Gurevich    cs.LO   \n",
       "\n",
       "                                            metaData  \\\n",
       "0  Italian Thesis In Engeenering Computer, 26 Feb...   \n",
       "1                                             Thesis   \n",
       "2                                         PhD Thesis   \n",
       "3                                                  0   \n",
       "4                                                  0   \n",
       "\n",
       "                            downloadLink  \\\n",
       "0   http://arxiv.org/pdf/1407.6950v1.pdf   \n",
       "1   http://arxiv.org/pdf/0907.0618v1.pdf   \n",
       "2  http://arxiv.org/pdf/1806.09601v2.pdf   \n",
       "3  http://arxiv.org/pdf/1905.03014v1.pdf   \n",
       "4  http://arxiv.org/pdf/1901.04911v1.pdf   \n",
       "\n",
       "                                            filePath  \n",
       "0  ./files/How,whenAndHowMuchACardDeckIsWellShuff...  \n",
       "1                  ./files/QuantumIsometryGroups.pdf  \n",
       "2  ./files/ComputationAndBoundingOfFolkmanNumbers...  \n",
       "3    ./files/OnChurch'sThesisInCubicalAssemblies.pdf  \n",
       "4  ./files/UnconstrainedChurchTuringThesisCannotP...  "
      ]
     },
     "execution_count": 90,
     "metadata": {},
     "output_type": "execute_result"
    }
   ],
   "source": [
    "df.head()"
   ]
  },
  {
   "cell_type": "markdown",
   "metadata": {
    "colab_type": "text",
    "id": "XG1xtU4xC3rK"
   },
   "source": [
    "#### Preprocessing the title to list of tokens"
   ]
  },
  {
   "cell_type": "code",
   "execution_count": 91,
   "metadata": {
    "colab": {},
    "colab_type": "code",
    "id": "iRgalGvEC3rL"
   },
   "outputs": [],
   "source": [
    "titles = list(df['title'].apply(\n",
    "    lambda t : \n",
    "        tuple(\n",
    "            filter(lambda e:not e in stopwords.words('english'),\n",
    "                map(lambda e:e.lower(),\n",
    "                       re.findall('([A-Z]{1}[a-z]+)',t.replace('.pdf','')))\n",
    "                )\n",
    "            )\n",
    "        )\n",
    "    )"
   ]
  },
  {
   "cell_type": "code",
   "execution_count": 92,
   "metadata": {},
   "outputs": [],
   "source": [
    "res = {}\n",
    "for title in titles:\n",
    "    synsets = {}\n",
    "    for word in title:\n",
    "        synsets[word]=[synset for synset in wn.synsets(word)]\n",
    "    res[title] = synsets"
   ]
  },
  {
   "cell_type": "code",
   "execution_count": 93,
   "metadata": {},
   "outputs": [],
   "source": [
    "def extract_hypernyms(word_set):\n",
    "    hypernyms = {}\n",
    "    for w in word_set:\n",
    "        hyps = []\n",
    "        for synset in wn.synsets(w):\n",
    "            hyps.extend(synset.hypernyms())\n",
    "        hypernyms[w] = set(hyps)   \n",
    "    return hypernyms"
   ]
  },
  {
   "cell_type": "code",
   "execution_count": 94,
   "metadata": {},
   "outputs": [],
   "source": [
    "def calculate_fscore(a,b):\n",
    "    intersection = a.intersection(b)\n",
    "    if (len(intersection) == 0):\n",
    "        fscore = 0\n",
    "    else:\n",
    "        prec = len(intersection)/(len(a))\n",
    "        recall = len(intersection)/(len(b))\n",
    "        fscore = 2 * prec * recall/(prec + recall)\n",
    "    return intersection, fscore"
   ]
  },
  {
   "cell_type": "code",
   "execution_count": 105,
   "metadata": {
    "colab": {},
    "colab_type": "code",
    "id": "YsBev1EcC3rP"
   },
   "outputs": [],
   "source": [
    "def distance(a,b):\n",
    "    a = set(a)\n",
    "    b = set(b)\n",
    "    intersection, fscore = calculate_fscore(a, b)\n",
    "    a = a - intersection\n",
    "    b = b - intersection\n",
    "    \n",
    "    if len(a) == 0 or len(b) == 0:\n",
    "        return 1 - fscore\n",
    "    \n",
    "    buff_a = extract_hypernyms(a)\n",
    "    buff_b = extract_hypernyms(b)\n",
    "    \n",
    "    penalty = 0\n",
    "    hypernyms_level_2 = set()\n",
    "    for wordA in a:\n",
    "        for wordB in b:\n",
    "            common_hyps = buff_a[wordA].intersection(buff_b[wordB])\n",
    "            if len(common_hyps) > 0:\n",
    "                penalty += 1\n",
    "                strs = []\n",
    "                for s in common_hyps:\n",
    "                    strs.extend(s.lemma_names())\n",
    "                hypernyms_level_2.update(strs)\n",
    "    \n",
    "    if len(hypernyms_level_2) > 0:\n",
    "        buff_hypernyms_level_2 = extract_hypernyms(hypernyms_level_2)\n",
    "        for h in hypernyms_level_2:\n",
    "            for wordA in a:\n",
    "                common_hyps_a = buff_hypernyms_level_2[h].intersection(buff_a[wordA])\n",
    "                if len(common_hyps_a) > 0:\n",
    "                    penalty = penalty + 0.5\n",
    "            \n",
    "            for wordB in b:\n",
    "                common_hyps_b = buff_hypernyms_level_2[h].intersection(buff_b[wordB])\n",
    "                if len(common_hyps_b) > 0:\n",
    "                    penalty = penalty + 0.5\n",
    "\n",
    "    recall_hyp = penalty/len(a)\n",
    "    prec_hyp = penalty/len(b)\n",
    "    fscore_hyp = 2 * (recall_hyp*prec_hyp) / (prec_hyp + recall_hyp) if penalty > 0 else 0\n",
    "    result = 1 - (2*fscore+fscore_hyp)/3\n",
    "    return result"
   ]
  },
  {
   "cell_type": "code",
   "execution_count": 106,
   "metadata": {},
   "outputs": [
    {
     "name": "stdout",
     "output_type": "stream",
     "text": [
      "# 10000\n",
      "# 20000\n",
      "# 30000\n",
      "# 40000\n",
      "# 50000\n",
      "# 60000\n",
      "# 70000\n",
      "# 80000\n",
      "# 90000\n",
      "# 100000\n",
      "# 110000\n",
      "# 120000\n",
      "# 130000\n",
      "# 140000\n",
      "# 150000\n",
      "# 160000\n",
      "# 170000\n",
      "# 180000\n",
      "# 190000\n",
      "# 200000\n",
      "# 210000\n",
      "# 220000\n",
      "# 230000\n",
      "# 240000\n",
      "# 250000\n",
      "# 260000\n",
      "# 270000\n",
      "# 280000\n",
      "# 290000\n",
      "# 300000\n",
      "# 310000\n",
      "# 320000\n",
      "# 330000\n",
      "# 340000\n",
      "# 350000\n",
      "# 360000\n",
      "# 370000\n",
      "# 380000\n",
      "# 390000\n",
      "# 400000\n",
      "# 410000\n",
      "# 420000\n",
      "# 430000\n",
      "# 440000\n",
      "# 450000\n",
      "# 460000\n",
      "# 470000\n",
      "# 480000\n",
      "# 490000\n",
      "# 500000\n",
      "# 510000\n",
      "# 520000\n",
      "# 530000\n",
      "# 540000\n",
      "# 550000\n",
      "# 560000\n",
      "# 570000\n",
      "# 580000\n",
      "# 590000\n",
      "# 600000\n",
      "# 610000\n",
      "# 620000\n",
      "# 630000\n",
      "# 640000\n",
      "# 650000\n",
      "# 660000\n",
      "# 670000\n",
      "# 680000\n",
      "# 690000\n",
      "# 700000\n",
      "# 710000\n",
      "# 720000\n",
      "# 730000\n",
      "# 740000\n",
      "# 750000\n",
      "# 760000\n",
      "# 770000\n",
      "# 780000\n",
      "# 790000\n",
      "# 800000\n",
      "# 810000\n",
      "# 820000\n",
      "# 830000\n",
      "# 840000\n",
      "# 850000\n",
      "# 860000\n",
      "# 870000\n",
      "# 880000\n",
      "# 890000\n",
      "# 900000\n",
      "# 910000\n",
      "# 920000\n",
      "# 930000\n",
      "# 940000\n",
      "# 950000\n",
      "# 960000\n",
      "# 970000\n",
      "# 980000\n",
      "# 990000\n"
     ]
    }
   ],
   "source": [
    "buff = list(res.items())\n",
    "epoch = 0\n",
    "dist = np.zeros((len(buff),len(buff)))\n",
    "for lli,ll in enumerate(buff):\n",
    "    for rri,rr in enumerate(buff):\n",
    "        epoch = epoch + 1\n",
    "        dist[lli,rri]=distance(ll[0],rr[0])\n",
    "        \n",
    "        if (epoch%10000 == 0):\n",
    "            print('#', epoch)"
   ]
  },
  {
   "cell_type": "markdown",
   "metadata": {
    "colab_type": "text",
    "id": "sVW9NVFmC3rR"
   },
   "source": [
    "#### Top ten closest articles with fuzzy metrics of titles"
   ]
  },
  {
   "cell_type": "code",
   "execution_count": 107,
   "metadata": {
    "colab": {
     "referenced_widgets": [
      "b06d56940d7a4b33b49ac122f8055d9d"
     ]
    },
    "colab_type": "code",
    "id": "PJfKkP_sC3rS",
    "outputId": "e3ddbefa-ea40-4464-f87b-45690e241fce"
   },
   "outputs": [
    {
     "data": {
      "application/vnd.jupyter.widget-view+json": {
       "model_id": "6db72a596f584e56a81c97b462539cba",
       "version_major": 2,
       "version_minor": 0
      },
      "text/plain": [
       "interactive(children=(IntSlider(value=0, description='ind', max=995), Output()), _dom_classes=('widget-interac…"
      ]
     },
     "metadata": {},
     "output_type": "display_data"
    }
   ],
   "source": [
    "@interact(ind=(0,len(buff)-1,1))\n",
    "def h(ind=0):\n",
    "    pp = pprint.PrettyPrinter(indent=4)\n",
    "    print(' '.join(buff[ind][0]))\n",
    "    pp.pprint([buff[i][0] for i in dist[ind][:].argsort()[1:11]])\n"
   ]
  },
  {
   "cell_type": "code",
   "execution_count": 108,
   "metadata": {
    "colab": {
     "referenced_widgets": [
      "fd9b9f3aff4a4b518fb0345303c63386"
     ]
    },
    "colab_type": "code",
    "id": "hQ3fW1fSC3rU",
    "outputId": "af83791b-ef9e-4c5a-bf6a-a1be03881661"
   },
   "outputs": [
    {
     "data": {
      "application/vnd.jupyter.widget-view+json": {
       "model_id": "52a075e1d75e46f9b5dc4430ba390789",
       "version_major": 2,
       "version_minor": 0
      },
      "text/plain": [
       "interactive(children=(IntSlider(value=0, description='ind', max=995), Output()), _dom_classes=('widget-interac…"
      ]
     },
     "metadata": {},
     "output_type": "display_data"
    }
   ],
   "source": [
    "@interact(ind=(0,len(buff)-1,1))\n",
    "def hypernyms(ind=0):\n",
    "    pp = pprint.PrettyPrinter(indent=4)\n",
    "    print(' '.join(buff[ind][0]))\n",
    "    pp.pprint(buff[ind][1])"
   ]
  },
  {
   "cell_type": "code",
   "execution_count": 0,
   "metadata": {
    "colab": {},
    "colab_type": "code",
    "id": "EjyKDbxtC3rW"
   },
   "outputs": [],
   "source": []
  }
 ],
 "metadata": {
  "colab": {
   "name": "HypernymTitles.ipynb",
   "provenance": []
  },
  "kernelspec": {
   "display_name": "Python 3",
   "language": "python",
   "name": "python3"
  },
  "language_info": {
   "codemirror_mode": {
    "name": "ipython",
    "version": 3
   },
   "file_extension": ".py",
   "mimetype": "text/x-python",
   "name": "python",
   "nbconvert_exporter": "python",
   "pygments_lexer": "ipython3",
   "version": "3.7.3"
  }
 },
 "nbformat": 4,
 "nbformat_minor": 1
}
